{
 "cells": [
  {
   "cell_type": "code",
   "execution_count": 12,
   "metadata": {},
   "outputs": [
    {
     "name": "stdout",
     "output_type": "stream",
     "text": [
      "<class 'pandas.core.frame.DataFrame'>\n",
      "RangeIndex: 891 entries, 0 to 890\n",
      "Data columns (total 11 columns):\n",
      "Survived          891 non-null int64\n",
      "Pclass            891 non-null int64\n",
      "Sex               891 non-null int64\n",
      "Embarked          891 non-null int64\n",
      "Title             891 non-null int64\n",
      "AgeCategory       891 non-null int64\n",
      "CabinCategory     891 non-null int64\n",
      "FareCategory      891 non-null int64\n",
      "Family            891 non-null int64\n",
      "IsAlone           891 non-null int64\n",
      "TicketCategory    891 non-null int64\n",
      "dtypes: int64(11)\n",
      "memory usage: 76.6 KB\n",
      "<class 'pandas.core.frame.DataFrame'>\n",
      "RangeIndex: 418 entries, 0 to 417\n",
      "Data columns (total 10 columns):\n",
      "Pclass            418 non-null int64\n",
      "Sex               418 non-null int64\n",
      "Embarked          418 non-null int64\n",
      "Title             418 non-null int64\n",
      "AgeCategory       418 non-null int64\n",
      "CabinCategory     418 non-null int64\n",
      "FareCategory      418 non-null int64\n",
      "Family            418 non-null int64\n",
      "IsAlone           418 non-null int64\n",
      "TicketCategory    418 non-null int64\n",
      "dtypes: int64(10)\n",
      "memory usage: 32.7 KB\n"
     ]
    }
   ],
   "source": [
    "import pandas as pd\n",
    "\n",
    "train = pd.read_csv(r'datafile/titanic_train.csv')\n",
    "test = pd.read_csv(r'datafile/titanic_test.csv')\n",
    "\n",
    "def feature_engineering(df):\n",
    "    # Sex\n",
    "    df['Sex'] = df['Sex'].map({'female': 0, 'male': 1})\n",
    "\n",
    "    # Embarked\n",
    "    df.Embarked.fillna('S', inplace=True)\n",
    "    df['Embarked'] = df['Embarked'].map({'C': 0, 'Q': 1, 'S': 2})\n",
    "\n",
    "    # Title\n",
    "    df['Title'] = df.Name.str.extract(' ([A-Za-z]+)\\.')\n",
    "    df['Title'] = df['Title'].replace(['Capt', 'Col', 'Countess', 'Don','Dona', 'Dr', 'Jonkheer', 'Lady','Major', 'Rev', 'Sir'], 'Other')\n",
    "    df['Title'] = df['Title'].replace('Mlle', 'Miss')\n",
    "    df['Title'] = df['Title'].replace('Mme', 'Mrs')\n",
    "    df['Title'] = df['Title'].replace('Ms', 'Miss')\n",
    "    df['Title'] = df['Title'].map({'Master': 0, 'Miss': 1, 'Mr': 2, 'Mrs':3, 'Other':4})\n",
    "\n",
    "    # Age\n",
    "    meanAge = df[['Title', 'Age']].groupby(['Title']).mean()\n",
    "    for index, row in meanAge.iterrows():\n",
    "        nullIndex = df[(df.Title == index) & (df.Age.isnull())].index\n",
    "        df.loc[nullIndex, 'Age'] = row[0]\n",
    "\n",
    "    df['AgeCategory'] = pd.qcut(df.Age, 8, labels=range(1, 9))\n",
    "    df.AgeCategory = df.AgeCategory.astype(int)\n",
    "\n",
    "    # Cabin\n",
    "    df.Cabin.fillna('N', inplace=True)\n",
    "    df[\"CabinCategory\"] = df[\"Cabin\"].str.slice(start=0, stop=1)\n",
    "    df[\"CabinCategory\"] = df['CabinCategory'].map({ \"N\": 0, \"C\": 1, \"B\": 2, \"D\": 3, \"E\": 4, \"A\": 5, \"F\": 6, \"G\": 7, \"T\": 8 })\n",
    "\n",
    "    # Fare\n",
    "    df.Fare.fillna(0, inplace=True)\n",
    "    df['FareCategory'] = pd.qcut(df.Fare, 8, labels=range(1, 9))\n",
    "    df.FareCategory = df.FareCategory.astype(int)\n",
    "\n",
    "    # SibSp, Parch\n",
    "    df['Family'] = df['SibSp'] + df['Parch'] + 1\n",
    "    df.loc[df[\"Family\"] > 4, \"Family\"] = 5\n",
    "\n",
    "    df['IsAlone'] = 1\n",
    "    df.loc[df['Family'] > 1, 'IsAlone'] = 0\n",
    "\n",
    "    # Ticket\n",
    "    df['TicketCategory'] = df.Ticket.str.split()\n",
    "    df['TicketCategory'] = [i[-1][0] for i in df['TicketCategory']]\n",
    "    df['TicketCategory'] = df['TicketCategory'].replace(['8', '9', 'L'], '8')\n",
    "    df['TicketCategory'] = pd.factorize(df['TicketCategory'])[0] + 1\n",
    "\n",
    "    df.drop(['PassengerId', 'Ticket', 'Cabin', 'Fare', 'Name', 'Age', 'SibSp', 'Parch'], axis=1, inplace=True)\n",
    "\n",
    "    return df\n",
    "\n",
    "train = feature_engineering(train)\n",
    "test = feature_engineering(test)\n",
    "\n",
    "train.info()\n",
    "test.info()"
   ]
  },
  {
   "cell_type": "code",
   "execution_count": 13,
   "metadata": {},
   "outputs": [],
   "source": [
    "from sklearn.ensemble import RandomForestClassifier \n",
    "from sklearn.model_selection import train_test_split\n",
    "from sklearn.metrics import accuracy_score\n",
    "\n",
    "#  Pclass, Sex, Embarked, Title, AgeCategory, CabinCategory, FareCategory, Family, IsAlone, TicketCategory \n",
    "data = train.drop('Survived', axis=1).values\n",
    "# Survived\n",
    "target = train['Survived'].values"
   ]
  },
  {
   "cell_type": "code",
   "execution_count": 14,
   "metadata": {},
   "outputs": [],
   "source": [
    "x_train, x_valid, y_train, y_valid = train_test_split(data, target, test_size=0.4, stratify=target, random_state=0)"
   ]
  },
  {
   "cell_type": "code",
   "execution_count": 15,
   "metadata": {},
   "outputs": [
    {
     "name": "stdout",
     "output_type": "stream",
     "text": [
      "총 357명 중 82.913% 정확도로 생존을 맞춤\n"
     ]
    }
   ],
   "source": [
    "rf = RandomForestClassifier(n_estimators=50, criterion=\"entropy\", max_depth=5, oob_score=True, random_state=10)\n",
    "rf.fit(x_train, y_train)\n",
    "prediction = rf.predict(x_valid)\n",
    "\n",
    "length = y_valid.shape[0]\n",
    "accuracy = accuracy_score(prediction, y_valid)\n",
    "print(f'총 {length}명 중 {accuracy * 100:.3f}% 정확도로 생존을 맞춤')"
   ]
  },
  {
   "cell_type": "code",
   "execution_count": null,
   "metadata": {},
   "outputs": [
    {
     "name": "stdout",
     "output_type": "stream",
     "text": [
      "Fitting 5 folds for each of 1792 candidates, totalling 8960 fits\n"
     ]
    },
    {
     "name": "stderr",
     "output_type": "stream",
     "text": [
      "[Parallel(n_jobs=-1)]: Done  32 tasks      | elapsed:    2.1s\n",
      "[Parallel(n_jobs=-1)]: Done 277 tasks      | elapsed:   24.4s\n",
      "[Parallel(n_jobs=-1)]: Done 527 tasks      | elapsed:   46.8s\n",
      "[Parallel(n_jobs=-1)]: Done 877 tasks      | elapsed:  1.3min\n",
      "[Parallel(n_jobs=-1)]: Done 1327 tasks      | elapsed:  2.0min\n",
      "[Parallel(n_jobs=-1)]: Done 1877 tasks      | elapsed:  2.7min\n",
      "[Parallel(n_jobs=-1)]: Done 2527 tasks      | elapsed:  3.5min\n",
      "[Parallel(n_jobs=-1)]: Done 3277 tasks      | elapsed:  4.5min\n",
      "[Parallel(n_jobs=-1)]: Done 4127 tasks      | elapsed:  5.6min\n",
      "[Parallel(n_jobs=-1)]: Done 5077 tasks      | elapsed:  6.9min\n",
      "[Parallel(n_jobs=-1)]: Done 6127 tasks      | elapsed:  8.2min\n",
      "[Parallel(n_jobs=-1)]: Done 7277 tasks      | elapsed:  9.8min\n"
     ]
    }
   ],
   "source": [
    "from sklearn.model_selection import GridSearchCV\n",
    "from sklearn.model_selection import StratifiedKFold\n",
    "\n",
    "RF_classifier = RandomForestClassifier()\n",
    "\n",
    "RF_paramgrid = {\n",
    "    'max_depth' : [6, 8, 10, 15],\n",
    "    'n_estimators': [50, 100, 300, 500, 700, 800, 900],\n",
    "    'max_features': ['sqrt'],\n",
    "    'min_samples_split': [2, 7, 15, 30],\n",
    "    'min_samples_leaf': [1, 15, 30, 60],\n",
    "    'bootstrap': [True, False],\n",
    "    'criterion': ['gini', 'entropy']\n",
    "    }\n",
    "\n",
    "k_fold = StratifiedKFold(n_splits=5)\n",
    "RF_classifiergrid = GridSearchCV(RF_classifier, param_grid = RF_paramgrid, cv=k_fold, scoring=\"accuracy\", n_jobs= -1, verbose=1)\n",
    "\n",
    "RF_classifiergrid.fit(x_train, y_train)\n",
    "\n",
    "rf = RF_classifiergrid.best_estimator_\n",
    "\n",
    "\n",
    "print(RF_classifiergrid.best_score_)\n",
    "0.8352059925093633\n",
    "\n",
    "print(RF_classifiergrid.best_params_)\n",
    "{'bootstrap': True, 'max_depth': 8, 'max_features': 'sqrt', 'min_samples_leaf': 1, 'min_samples_split': 7, 'n_estimators': 1200}\n",
    "\n",
    "print(RF_classifiergrid.best_estimator_)\n",
    "RandomForestClassifier(bootstrap=True, class_weight=None, criterion='gini',\n",
    "                       max_depth=8, max_features='sqrt', max_leaf_nodes=None,\n",
    "                       min_impurity_decrease=0.0, min_impurity_split=None,\n",
    "                       min_samples_leaf=1, min_samples_split=7,\n",
    "                       min_weight_fraction_leaf=0.0, n_estimators=1200,\n",
    "                       n_jobs=None, oob_score=False, random_state=None,\n",
    "                       verbose=0, warm_start=False)"
   ]
  },
  {
   "cell_type": "code",
   "execution_count": null,
   "metadata": {},
   "outputs": [],
   "source": [
    "import matplotlib.pyplot as plt\n",
    "from pandas import Series\n",
    "\n",
    "feature_importance = rf.feature_importances_\n",
    "fi = Series(feature_importance, index=train.drop(['Survived'], axis=1).columns)\n",
    "\n",
    "plt.figure(figsize=(8, 8))\n",
    "fi.sort_values(ascending=True).plot.barh()\n",
    "plt.xlabel('Feature importance')\n",
    "plt.ylabel('Feature')\n",
    "plt.show()\n"
   ]
  },
  {
   "cell_type": "code",
   "execution_count": null,
   "metadata": {},
   "outputs": [],
   "source": []
  }
 ],
 "metadata": {
  "kernelspec": {
   "display_name": "Python 3",
   "language": "python",
   "name": "python3"
  },
  "language_info": {
   "codemirror_mode": {
    "name": "ipython",
    "version": 3
   },
   "file_extension": ".py",
   "mimetype": "text/x-python",
   "name": "python",
   "nbconvert_exporter": "python",
   "pygments_lexer": "ipython3",
   "version": "3.6.5"
  }
 },
 "nbformat": 4,
 "nbformat_minor": 2
}
